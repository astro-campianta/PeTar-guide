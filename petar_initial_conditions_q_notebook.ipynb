{
 "cells": [
  {
   "cell_type": "code",
   "execution_count": 1,
   "metadata": {
    "colab": {
     "background_save": true
    },
    "id": "JytdrxxseaL-"
   },
   "outputs": [],
   "source": [
    "import numpy as np\n",
    "import scipy.stats as stats\n",
    "import matplotlib.pyplot as plt\n",
    "import pandas as pd\n",
    "\n",
    "np.random.seed(788) # Random seed"
   ]
  },
  {
   "cell_type": "markdown",
   "metadata": {},
   "source": [
    "The function *Kroupa IMF* generates stellar masses according to the Kroupa IMF distribution in the range [0.01,100] M$_\\odot$. It returns *masses* (1D array, float type), i.e., the masses of all the stars in the system in M$_\\odot$."
   ]
  },
  {
   "cell_type": "code",
   "execution_count": 2,
   "metadata": {},
   "outputs": [],
   "source": [
    "def Kroupa_IMF(N_masses, m_min, m_max):\n",
    "\n",
    "    def Kroupa_IMF_extraction(N=1, m_min=0.01, m_max=100):\n",
    "    \n",
    "        alpha_1 = 0.3\n",
    "        alpha_2 = 1.3\n",
    "        alpha_3 = 2.3\n",
    "    \n",
    "        m_change_1 = 0.08\n",
    "        m_change_2 = 0.5\n",
    "    \n",
    "        continuity_1 = m_change_1**(alpha_2-alpha_1)\n",
    "        continuity_2 = continuity_1*m_change_2**(alpha_3-alpha_2)\n",
    "\n",
    "        norm_1 = (m_change_1**(1-alpha_1)-m_min**(1-alpha_1))/(1-alpha_1)\n",
    "        norm_2 = continuity_1*(m_change_2**(1-alpha_2)-m_change_1**(1-alpha_2))/(1-alpha_2)\n",
    "        norm_3 = continuity_2*(m_max**(1-alpha_3)-m_change_2**(1-alpha_3))/(1-alpha_3)\n",
    "\n",
    "        norm = norm_1 + norm_2 + norm_3\n",
    "\n",
    "        P_m = np.random.uniform(0,1,N)\n",
    "        mask_light_1 = (norm*P_m - norm_1 < 0)\n",
    "        mask_light_2 = (norm*P_m - norm_2 - norm_1 < 0) & (norm*P_m - norm_1 > 0)\n",
    "        mask_heavy = (norm*P_m - norm_2 - norm_1 > 0)\n",
    "\n",
    "        P_light_1 = P_m[mask_light_1]\n",
    "        P_light_2 = P_m[mask_light_2]\n",
    "        P_heavy = P_m[mask_heavy]\n",
    "\n",
    "        m_light_1 = ((1-alpha_1)*(norm*P_light_1) + m_min**(1-alpha_1))**(1/(1-alpha_1))\n",
    "        m_light_2 = ((1-alpha_2)*(norm*P_light_2-norm_1)/continuity_1 + m_change_1**(1-alpha_2))**(1/(1-alpha_2))\n",
    "        m_heavy = ((1-alpha_3)*(norm*P_heavy-norm_1-norm_2)/continuity_2 + m_change_2**(1-alpha_3))**(1/(1-alpha_3))\n",
    "\n",
    "        m_tot = np.concatenate((m_light_1,m_light_2,m_heavy), axis=0)\n",
    "        np.random.shuffle(m_tot)\n",
    "    \n",
    "        return m_tot\n",
    "\n",
    "    masses = Kroupa_IMF_extraction(N=N_masses)\n",
    "    \n",
    "    while True:\n",
    "        mask_masses = (masses < m_min) | (masses> m_max)\n",
    "        masses_accepted_1 = masses[~mask_masses]\n",
    "        N_rejected = mask_masses.sum()\n",
    "        if N_rejected == 0:\n",
    "            break\n",
    "        masses_accepted_2 = Kroupa_IMF_extraction(N=N_rejected)\n",
    "        masses = np.concatenate((masses_accepted_1,masses_accepted_2), axis=0)\n",
    "\n",
    "    np.random.shuffle(masses)\n",
    "    \n",
    "    return masses"
   ]
  },
  {
   "cell_type": "markdown",
   "metadata": {},
   "source": [
    "This cell allows the user to compute the mean mass of the system in the selected mass range following the Kroupa IMF. The variable *m$_{mean}$* is a keyword of the *main program*: the user must insert its value in the header, together with the total number of stars *N$_{tot}$* and the binary fraction *f$_b$*."
   ]
  },
  {
   "cell_type": "code",
   "execution_count": 3,
   "metadata": {},
   "outputs": [
    {
     "name": "stdout",
     "output_type": "stream",
     "text": [
      "Mean mass in the selected mass range: 0.6381383461965906\n"
     ]
    }
   ],
   "source": [
    "masses = Kroupa_IMF(10**7, 0.1, 100)\n",
    "\n",
    "m_mean = np.mean(masses)\n",
    "\n",
    "print('Mean mass in the selected mass range:', m_mean)"
   ]
  },
  {
   "cell_type": "markdown",
   "metadata": {},
   "source": [
    "The function *mass ratio* extracts *q* values from a power-law mass ratio distribution *f(q) $\\propto q^{(-4)}$* in the range *q* $\\in [0.01,1]$; it hence returns the mass ratio *q* (1D array, float type)."
   ]
  },
  {
   "cell_type": "code",
   "execution_count": 4,
   "metadata": {},
   "outputs": [],
   "source": [
    "def mass_ratio(N_b, q_min=0.01, q_max=1, beta=-0.4):\n",
    "    \n",
    "    norm_q = ((1/(beta+1))*(q_max**(beta+1) - q_min**(beta+1)))\n",
    "    X_q = np.random.uniform(0,1,N_b)\n",
    "    q = pow(norm_q*(beta+1)*X_q + q_min**(beta+1),1/(beta+1))\n",
    "\n",
    "    return q"
   ]
  },
  {
   "cell_type": "markdown",
   "metadata": {},
   "source": [
    "The function *stellar masses* assigns masses extracted from the Kroupa IMF to single stars and primary components of binary stars, from the multiplication of which times a *q* value those of secondaries are generated. All masses are finally corrected for their sum to match the imposed system's total mass. The function returns, after correction:\n",
    "\n",
    "1) *m$_s$* : masses of single stars in M$_\\odot$ (1D array, float type);\n",
    "\n",
    "2) *m$_1$* : masses of primaries in M$_\\odot$ (1D array, float type);\n",
    "\n",
    "3) *m$_2$* : masses of secondaries in M$_\\odot$ (1D array, float type);\n",
    "\n",
    "4) *m$_{cm}$* : masses of binary barycenters in M$_\\odot$ (1D array, float type);\n",
    "\n",
    "5) *m* : masses of single stars and binary barycenters in M$_\\odot$ (1D array, float type);\n",
    "\n",
    "6) *m$_{tot}$* : masses of single stars, primaries and secondaries in M$_\\odot$ (1D array, float type);\n",
    "\n",
    "7) *M* : system's total mass in M$_\\odot$ (float type variable)."
   ]
  },
  {
   "cell_type": "code",
   "execution_count": 5,
   "metadata": {},
   "outputs": [],
   "source": [
    "def stellar_masses(N_s, N_tot, masses, m_mean, q):\n",
    "    \n",
    "    m_s = masses[:N_s]\n",
    "    m_1 = masses[N_s:]\n",
    "    m_2 = m_1*q\n",
    "    \n",
    "    M = np.sum(np.concatenate((m_s,m_1,m_2), axis=0))\n",
    "    M_tot = m_mean*N_tot\n",
    "    \n",
    "    correction = M_tot/M\n",
    "    \n",
    "    m_s = m_s*correction\n",
    "    m_1 = m_1*correction\n",
    "    m_2 = m_2*correction\n",
    "    \n",
    "    m_cm = m_1 + m_2\n",
    "    m = np.concatenate((m_s,m_cm), axis=0)\n",
    "    m_tot = np.concatenate((m_s,m_1,m_2), axis=0)\n",
    "    \n",
    "    M = int(np.sum(m_tot))\n",
    "    \n",
    "    return m_s, m_1, m_2, m_cm, m, m_tot, M"
   ]
  },
  {
   "cell_type": "markdown",
   "metadata": {},
   "source": [
    "The function *positions* determines the positions of single stars and binary centers of mass according to the Plummer model, and returns:\n",
    "\n",
    "1) *r* : position vectors' magnitudes in pc (1D array, float type);\n",
    "\n",
    "2) *X* : position vectors' components in pc (*N*$\\times$3 matrix, each line referring to a star and each column to a position component, i.e., *x*, *y*, *z*)."
   ]
  },
  {
   "cell_type": "code",
   "execution_count": 6,
   "metadata": {
    "id": "SCfAoFwgeaMh"
   },
   "outputs": [],
   "source": [
    "def positions(R, N):\n",
    "    \n",
    "    P_r = np.random.uniform(0,1,N)\n",
    "    P_theta = np.random.uniform(-1,1,N)\n",
    "    P_phi = np.random.uniform(0,2*np.pi,N)\n",
    "\n",
    "    theta = np.arccos(P_theta)\n",
    "    phi = P_phi\n",
    "    \n",
    "    r = (1/np.sqrt(pow(P_r,-2/3) - 1))*R # pc\n",
    "    \n",
    "    X = np.zeros(shape=(N,3))\n",
    "\n",
    "    X[:,0] = r*np.sin(theta)*np.cos(phi)\n",
    "    X[:,1] = r*np.sin(theta)*np.sin(phi)\n",
    "    X[:,2] = r*np.cos(theta)\n",
    "    \n",
    "    return r, X"
   ]
  },
  {
   "cell_type": "markdown",
   "metadata": {},
   "source": [
    "The function *single positions* assigns the extracted positions to single stars; therefore, it returns single stellar position vectors' components in pc (*X$_s$* : *N$_s$*$\\times$3 matrix, each line referring to a star and each column to a position component, i.e., *x$_s$*, *y$_s$*, *z$_s$*)."
   ]
  },
  {
   "cell_type": "code",
   "execution_count": 7,
   "metadata": {
    "id": "rTXrHNfC4XJS"
   },
   "outputs": [],
   "source": [
    "def single_positions(N_s, r, X):\n",
    "    \n",
    "    r_s = r[:N_s] # Positions of single stars\n",
    "    X_s = X[:N_s]\n",
    "    \n",
    "    return X_s"
   ]
  },
  {
   "cell_type": "markdown",
   "metadata": {},
   "source": [
    "The function *binary positions* determines the positions of both binary centres of mass and binary components, by assuming as a location the apocenter of their respective orbit for computational convenience. In particular, the positions of binary components are evaluated in the system reference frame. The function returns:\n",
    "\n",
    "1) *X$_1$* : position vectors' components of primaries in pc (*N$_b$*$\\times$3 matrix, each line referring to a primary star and each column to a position component, i.e., *x$_1$*, *y$_1$*, *z$_1$*);\n",
    "\n",
    "2) *X$_2$* : position vectors' components of secondaries in pc (*N$_b$*$\\times$3 matrix, each line referring to a secondary star and each column to a position component, i.e., *x$_2$*, *y$_2$*, *z$_2$*)."
   ]
  },
  {
   "cell_type": "code",
   "execution_count": 8,
   "metadata": {
    "id": "94F2itgHeaMu"
   },
   "outputs": [],
   "source": [
    "def binary_positions(N_s, N_b, r, X, m_1, m_2, a, e):\n",
    "    \n",
    "    r_cm = r[N_s:] # Positions of binary centers of mass\n",
    "    X_cm = X[N_s:]\n",
    "    \n",
    "    r_apo = a*(1+e) # Apocenter radius\n",
    "\n",
    "    nx = 2*np.random.uniform(0,1,N_b) - 1\n",
    "    ny = 2*np.random.uniform(0,1,N_b) - 1\n",
    "    nz = 2*np.random.uniform(0,1,N_b) - 1 \n",
    "    \n",
    "    nx_norm = nx/np.sqrt(nx**2+ny**2+nz**2)\n",
    "    ny_norm = ny/np.sqrt(nx**2+ny**2+nz**2)\n",
    "    nz_norm = nz/np.sqrt(nx**2+ny**2+nz**2)\n",
    "    \n",
    "    X_apo = np.zeros(shape=(len(r_apo),3))\n",
    "    X_apo[:,0] = nx_norm*r_apo\n",
    "    X_apo[:,1] = ny_norm*r_apo\n",
    "    X_apo[:,2] = nz_norm*r_apo\n",
    "    \n",
    "    # Position components of primaries\n",
    "    \n",
    "    X_1 = np.zeros(shape=(len(r_apo),3))\n",
    "\n",
    "    X_1[:,0] = X_cm[:,0] + m_2*X_apo[:,0]/(m_1+m_2)\n",
    "    X_1[:,1] = X_cm[:,1] + m_2*X_apo[:,1]/(m_1+m_2)\n",
    "    X_1[:,2] = X_cm[:,2] + m_2*X_apo[:,2]/(m_1+m_2)\n",
    "\n",
    "    # Position components of secondaries\n",
    "    \n",
    "    X_2 = np.zeros(shape=(len(r_apo),3))\n",
    "    \n",
    "    X_2[:,0] = X_cm[:,0] - m_1*X_apo[:,0]/(m_1+m_2)\n",
    "    X_2[:,1] = X_cm[:,1] - m_1*X_apo[:,1]/(m_1+m_2)\n",
    "    X_2[:,2] = X_cm[:,2] - m_1*X_apo[:,2]/(m_1+m_2)\n",
    "\n",
    "    return X_1, X_2"
   ]
  },
  {
   "cell_type": "markdown",
   "metadata": {},
   "source": [
    "The function *velocities* extracts the velocities of both single stars and binary centers of mass according to the Plummer model, provided that they do not exceed in magnitude the associated escape velocity (condition evaluated through an accept-reject method), and returns:\n",
    "\n",
    "1) *v* : velocity vectors' magnitudes in pc/Myr (1D array, float type);\n",
    "\n",
    "2) *V* : velocity vectors' components in pc/Myr (*N*$\\times$3 matrix, each line referring to a star and each column to a velocity component, i.e., *v$_x$*, *v$_y$*, *v$_z$*)."
   ]
  },
  {
   "cell_type": "code",
   "execution_count": 9,
   "metadata": {},
   "outputs": [],
   "source": [
    "def velocities(R, N, M, r):\n",
    "    \n",
    "    n_samples = 0\n",
    "    v = []\n",
    "\n",
    "    while n_samples < N:\n",
    "        x_t = np.random.uniform(0,1)\n",
    "        y_t = 0.1*np.random.uniform(0,1)\n",
    "        \n",
    "        if (x_t**2)*(1-x_t**2)**(3.5) > y_t: \n",
    "            v.append(x_t)\n",
    "            n_samples +=1\n",
    "            \n",
    "    r = r/R\n",
    "    ve = np.sqrt(2)*(1+r**2)**(-0.25)\n",
    "    \n",
    "    v = np.asarray(v)*ve*np.sqrt(G*M/R) # km/s\n",
    "    v = 1.023*v # pc/Myr\n",
    "        \n",
    "    n1 = np.random.uniform(0,1,N)\n",
    "    n2 = np.random.uniform(0,1,N)\n",
    "\n",
    "    V = np.zeros(shape=(N,3))\n",
    "\n",
    "    V[:,0] = (1 - 2*n1)*v\n",
    "    V[:,1] = np.sqrt(pow(v,2) - pow(V[:,0],2))*np.sin(2*np.pi*n2)\n",
    "    V[:,2] = np.sqrt(pow(v,2) - pow(V[:,0],2))*np.cos(2*np.pi*n2)\n",
    "\n",
    "    return v, V"
   ]
  },
  {
   "cell_type": "markdown",
   "metadata": {},
   "source": [
    "The function *virial ratio* calculates the kinetic and the potential energy of the system (indicated by *T* and *U*, respectively), which are used to determine the virial ratio *Q* (float type). The purpose of the function is checking that the virial equilibrium is effectively obtained, i.e., that *Q* = 0.5."
   ]
  },
  {
   "cell_type": "code",
   "execution_count": 10,
   "metadata": {
    "id": "qXSWie_xeaMk"
   },
   "outputs": [],
   "source": [
    "def virial_ratio(R, G, m, M, X, v):\n",
    "\n",
    "    T = np.sum(m*pow(v,2)/2)\n",
    "    \n",
    "    U = 0\n",
    "    for i in range(len(X)-1):\n",
    "        x_eff = X[i+1:,0]\n",
    "        y_eff = X[i+1:,1]\n",
    "        z_eff = X[i+1:,2]\n",
    "        l = len(x_eff)\n",
    "        \n",
    "        x_i = X[i,0]*np.ones(l)\n",
    "        y_i = X[i,1]*np.ones(l) \n",
    "        z_i = X[i,2]*np.ones(l)\n",
    "        \n",
    "        inverse_distance = 1/np.sqrt((x_i - x_eff)**2 + (y_i - y_eff)**2 +(z_i-z_eff)**2)\n",
    "        U += -G*m[i]*np.sum(np.dot(m[i+1:],inverse_distance))\n",
    "                \n",
    "    Q = T/abs(U)\n",
    "    \n",
    "    return Q"
   ]
  },
  {
   "cell_type": "markdown",
   "metadata": {},
   "source": [
    "The function *single velocities* assigns the extracted velocities to single stars and returns single stellar velocity vectors' components in pc/Myr (*V$_s$* : *N$_s$*$\\times$3 matrix, each line referring to a star and each column to a velocity component, i.e., *v$_{s,x}$*, *v$_{s,y}$*, *v$_{s,z}$*)."
   ]
  },
  {
   "cell_type": "code",
   "execution_count": 11,
   "metadata": {
    "id": "lPRy54ma4XJc"
   },
   "outputs": [],
   "source": [
    "def single_velocities(N_s, v, V):\n",
    "    \n",
    "    v_s = v[:N_s] \n",
    "    V_s = V[:N_s]\n",
    "    \n",
    "    return V_s "
   ]
  },
  {
   "cell_type": "markdown",
   "metadata": {},
   "source": [
    "The function *binary velocities* assigns the remaining extracted velocities to binary centers of mass and determines the velocities of binary components by accounting for the additional orbital motion, expressed through the mean orbital velocity. The function returns:\n",
    "\n",
    "1) *V$_1$* : velocity vectors' components of primaries in pc/Myr (*N$_b$*$\\times$3 matrix, each line referring to a star and each column to a velocity component, i.e., *v$_{1,x}$*, *v$_{1,y}$*, *v$_{1,z}$*);\n",
    "\n",
    "2) *V$_2$* : velocity vectors' components of secondaries in pc/Myr (*N$_b$*$\\times$3 matrix, each line referring to a star and each column to a velocity component, i.e., *v$_{2,x}$*, *v$_{2,y}$*, *v$_{2,z}$*)."
   ]
  },
  {
   "cell_type": "code",
   "execution_count": 12,
   "metadata": {
    "id": "pEf3tQ2eeaMw"
   },
   "outputs": [],
   "source": [
    "def binary_velocities(N_s, N_b, v, V, m_1, m_2, a):\n",
    "    \n",
    "    v_cm = v[N_s:] # Velocities of binary centers of mass\n",
    "    V_cm = V[N_s:]\n",
    "    \n",
    "    m_1.reshape(N_b)\n",
    "    m_2.reshape(N_b)\n",
    "      \n",
    "    v_orb_mean = np.sqrt(G*(m_1+m_2)/a) # Mean orbital velocity\n",
    "\n",
    "    nx = 2*np.random.uniform(0,1,N_b) - 1\n",
    "    ny = 2*np.random.uniform(0,1,N_b) - 1\n",
    "    nz = 2*np.random.uniform(0,1,N_b) - 1\n",
    "\n",
    "    nx_norm = nx/np.sqrt(nx**2 + ny**2 + nz**2)\n",
    "    ny_norm = ny/np.sqrt(nx**2 + ny**2 + nz**2)\n",
    "    nz_norm = nz/np.sqrt(nx**2 + ny**2 + nz**2)\n",
    "    \n",
    "    V_apo = np.zeros(shape=(N_b,3))\n",
    "    \n",
    "    V_apo[:,0] = nx_norm*v_orb_mean\n",
    "    V_apo[:,1] = ny_norm*v_orb_mean\n",
    "    V_apo[:,2] = nz_norm*v_orb_mean\n",
    "    \n",
    "    # Velocity components of primaries\n",
    "    \n",
    "    V_1 = np.zeros(shape=(N_b,3))\n",
    "\n",
    "    V_1[:,0] = V_cm[:,0] + m_2*V_apo[:,0]/(m_1+m_2)\n",
    "    V_1[:,1] = V_cm[:,1] + m_2*V_apo[:,1]/(m_1+m_2)\n",
    "    V_1[:,2] = V_cm[:,2] + m_2*V_apo[:,2]/(m_1+m_2)\n",
    "    \n",
    "    # Velocity components of secondaries\n",
    "    \n",
    "    V_2 = np.zeros(shape=(N_b,3))\n",
    "    \n",
    "    V_2[:,0] = V_cm[:,0] - m_1*V_apo[:,0]/(m_1+m_2)\n",
    "    V_2[:,1] = V_cm[:,1] - m_1*V_apo[:,1]/(m_1+m_2)\n",
    "    V_2[:,2] = V_cm[:,2] - m_1*V_apo[:,2]/(m_1+m_2)\n",
    "    \n",
    "    return V_cm, V_1, V_2"
   ]
  },
  {
   "cell_type": "markdown",
   "metadata": {},
   "source": [
    "The function *semi-major axis* extracts binary semi-major axes from a flat distribution *f(a) = 1/a* in the desired range of values [*a$_{au,min}$*,*a$_{au,max}$*], and returns:\n",
    "\n",
    "1) *a$_{au}$* : semi-major axes in AU (1D array, float type);\n",
    "\n",
    "2) *a* : semi-major axes in pc (1D array, float type)."
   ]
  },
  {
   "cell_type": "code",
   "execution_count": 13,
   "metadata": {
    "id": "LmFG_zs_eaMm"
   },
   "outputs": [],
   "source": [
    "def semi_major_axis(N_b, a_au_min, a_au_max):\n",
    "    \n",
    "    X_a = np.random.uniform(0,1,N_b)\n",
    "    norm_a = np.log(a_au_max/a_au_min)\n",
    "     \n",
    "    a_au = np.exp((norm_a*X_a)+np.log(a_au_min))\n",
    "    a = a_au/206264.55529277\n",
    "    \n",
    "    return a_au, a"
   ]
  },
  {
   "cell_type": "markdown",
   "metadata": {},
   "source": [
    "The function *eccentricity* samples eccentricities from a thermal distribution *f(e) = 2e* in the desired range of values [*e*$_{min}$,*e*$_{max}$], hence returning the eccentricity *e* (1D array, float type)."
   ]
  },
  {
   "cell_type": "code",
   "execution_count": 14,
   "metadata": {
    "id": "XPR58hvQeaMq"
   },
   "outputs": [],
   "source": [
    "def eccentricity(N_b, e_min, e_max):\n",
    "    \n",
    "    norm_e = pow(e_max,2) - pow(e_min,2)\n",
    "    X_e = np.random.uniform(0,1,N_b)\n",
    "    e = np.sqrt(norm_e*X_e + pow(e_min,2))\n",
    "\n",
    "    return e"
   ]
  },
  {
   "cell_type": "markdown",
   "metadata": {},
   "source": [
    "The function *plot distributions* displays the trend of the previously implemented distribution functions from sampled data. In order, panels show:\n",
    "\n",
    "1) the Kroupa IMF *f(m)*;\n",
    "\n",
    "2) the mass ratio distribution *f(q)*;\n",
    "\n",
    "3) the semi-major axis distribution *f(a)*;\n",
    "\n",
    "4) the eccentricity distribution *f(e)*."
   ]
  },
  {
   "cell_type": "code",
   "execution_count": 25,
   "metadata": {},
   "outputs": [],
   "source": [
    "def plot_distributions(plot=True):\n",
    "    \n",
    "    m_tot = Kroupa_IMF(10**5, 0.1, 100)\n",
    "    q = mass_ratio(10**5, q_min=0.01, q_max=1, beta=-0.4)\n",
    "    a_au, a = semi_major_axis(10**5, 0.2, 100)\n",
    "    e = eccentricity(10**5, 0, 1)\n",
    "    \n",
    "    distributions = plt.figure(figsize=(10,12), dpi=120)\n",
    "    \n",
    "    distributions.add_subplot(2,2,1)\n",
    "    plt.hist(m_tot, bins=int(len(m_tot)/100), color='blue', alpha=0.5)\n",
    "    plt.xscale('log')\n",
    "    plt.yscale('log')\n",
    "    plt.xlabel('m', fontsize=13)\n",
    "    plt.ylabel('f(m)', fontsize=13)\n",
    "    plt.title('Kroupa IMF', fontsize=15)\n",
    "    \n",
    "    distributions.add_subplot(2,2,2)\n",
    "    plt.hist(q, bins=int(len(q)/100), color='red', alpha=0.5)\n",
    "    plt.xlabel('q', fontsize=13)\n",
    "    plt.ylabel('f(q)', fontsize=13)\n",
    "    plt.title('Mass ratio distribution', fontsize=15)\n",
    "    \n",
    "    distributions.add_subplot(2,2,3)\n",
    "    plt.hist(a, bins=int(len(a)/100), color='yellow', alpha=1)\n",
    "    plt.xscale('log')\n",
    "    plt.xlabel('a', fontsize=13)\n",
    "    plt.ylabel('f(a)', fontsize=13)\n",
    "    plt.title('Semi-major axis distribution', fontsize=15)\n",
    "    \n",
    "    distributions.add_subplot(2,2,4)\n",
    "    plt.hist(e, bins=int(len(e)/100), color='green', alpha=0.5)\n",
    "    plt.xlabel('e', fontsize=13)\n",
    "    plt.ylabel('f(e)', fontsize=13)\n",
    "    plt.title('Eccentricity distribution', fontsize=15)\n",
    "    \n",
    "    plt.show()\n",
    "    \n",
    "    return 0"
   ]
  },
  {
   "cell_type": "markdown",
   "metadata": {},
   "source": [
    "The function *main program* initializes all the functions in the program once the free parameters *R*, *N$_{tot}$*, *f$_b$*, *m$_{min}$*, *m$_{max}$*, *m$_{mean}$*, *a$_{au,min}$*, *a$_{au,max}$*, *e$_{min}$* and *e$_{max}$* are specified.\n",
    "As an example, for an open cluster (OC) in the Milky Way disk the parameters are:\n",
    "\n",
    "1) *R* = 1 pc;\n",
    "\n",
    "2) *f$_b$* = 15;\n",
    "\n",
    "3) *N$_{tot}$* = $10^3$;\n",
    "\n",
    "4) *m$_{min}$* = 0.1 M$_\\odot$;\n",
    "\n",
    "5) *m$_{max}$* = 100 M$_\\odot$;\n",
    "\n",
    "6) *m$_{mean}$* = 0.64 M$_\\odot$;\n",
    "\n",
    "7) *a$_{au,min}$* = 0.2 AU;\n",
    "\n",
    "8) *a$_{au,max}$* = 100 AU;\n",
    "\n",
    "9) *e$_{min}$* = 0;\n",
    "\n",
    "10) *e$_{max}$* = 1.\n",
    "\n",
    "Then, the *main program* generates a dataframe for PeTar's initial conditions file, whose columns contain, respectively masses (M$_\\odot$), x-position components (pc), y-position components (pc), z-position components (pc), x-velocity components (pc/Myr), y-velocity components (pc/Myr) and z-velocity components (pc/Myr). Lines, instead, contain parameters of single, primary and secondary stars, each line representing an object."
   ]
  },
  {
   "cell_type": "code",
   "execution_count": 26,
   "metadata": {},
   "outputs": [],
   "source": [
    "def main_program(N_tot, f_b, m_mean):\n",
    "    \n",
    "    f_b /= 100\n",
    "    N_b = round(float(f_b*N_tot))\n",
    "    N_s = N_tot - 2*N_b\n",
    "    N = N_s + N_b\n",
    "    \n",
    "    masses = Kroupa_IMF(N_masses=N, m_min=0.01, m_max=100)\n",
    "    \n",
    "    q = mass_ratio(N_b, q_min=0.01, q_max=1, beta=-0.4)\n",
    "    \n",
    "    m_s, m_1, m_2, m_cm, m, m_tot, M = stellar_masses(N_s, N_tot, masses, m_mean, q)\n",
    "    \n",
    "    r, X = positions(1, N)\n",
    "    \n",
    "    X_s = single_positions(N_s, r, X)\n",
    "    \n",
    "    v, V = velocities(1, N, M, r)\n",
    "    \n",
    "    V_s = single_velocities(N_s, v, V)\n",
    "\n",
    "    Q = virial_ratio(1, G, m, M, X, v)\n",
    "    \n",
    "    a_au, a = semi_major_axis(N_b, 0.2, 100)\n",
    "    \n",
    "    e = eccentricity(N_b, 0, 1)\n",
    "    \n",
    "    X_1, X_2 = binary_positions(N_s, N_b, r, X, m_1, m_2, a, e)\n",
    "    \n",
    "    V_cm, V_1, V_2 = binary_velocities(N_s, N_b, v, V, m_1, m_2, a)\n",
    "    \n",
    "    plot_distributions(plot=True) # True to display the plot, False not to\n",
    "    \n",
    "    m_b = np.zeros(2*N_b) \n",
    "\n",
    "    X_b = np.zeros(shape=(2*N_b,3))\n",
    "\n",
    "    V_b = np.zeros(shape=(2*N_b,3))\n",
    "\n",
    "    for i in range(N_b):\n",
    "    \n",
    "        m_b[2*i] = m_1[i]\n",
    "        m_b[2*i+1] = m_2[i]\n",
    "        X_b[2*i] = X_1[i]\n",
    "        X_b[2*i+1] = X_2[i]\n",
    "        V_b[2*i] = V_1[i]\n",
    "        V_b[2*i+1] = V_2[i]\n",
    "\n",
    "    # Masses vector   \n",
    "    \n",
    "    masses = np.concatenate((m_b,m_s),axis=0)\n",
    "\n",
    "    # Positions vector\n",
    "\n",
    "    x_positions = np.concatenate((X_b[:,0],X_s[:,0]),axis=0) \n",
    "    y_positions = np.concatenate((X_b[:,1],X_s[:,1]),axis=0)\n",
    "    z_positions = np.concatenate((X_b[:,2],X_s[:,2]),axis=0)\n",
    "\n",
    "    # Velocities vector\n",
    "\n",
    "    x_velocities = np.concatenate((V_b[:,0],V_s[:,0]),axis=0)\n",
    "    y_velocities = np.concatenate((V_b[:,1],V_s[:,1]),axis=0)\n",
    "    z_velocities = np.concatenate((V_b[:,2],V_s[:,2]),axis=0)\n",
    "\n",
    "    # Dataframe to create the input file\n",
    "\n",
    "    nbody_data = {'Masses': masses, 'Positions x': x_positions, 'Positions y': y_positions, 'Positions z': z_positions,\n",
    "                  'Velocities x': x_velocities, 'Velocities y': y_velocities, 'Velocities z': z_velocities}\n",
    "    nbody_df = pd.DataFrame(nbody_data)\n",
    "\n",
    "    file_dat = nbody_df.to_csv(r'initial_conditions', sep=' ', index=False, header=False)\n",
    "    \n",
    "    return Q, N_b, file_dat"
   ]
  },
  {
   "cell_type": "code",
   "execution_count": 27,
   "metadata": {},
   "outputs": [
    {
     "data": {
      "image/png": "[encoded data removed]",
      "text/plain": [
       "<Figure size 1200x1440 with 4 Axes>"
      ]
     },
     "metadata": {
      "needs_background": "light"
     },
     "output_type": "display_data"
    }
   ],
   "source": [
    "G = 0.00449830997959438 # value for converting velocities from km/s to pc/Myr\n",
    "\n",
    "Q, N_b, file_dat = main_program(10**3, 15, 0.64)"
   ]
  },
  {
   "cell_type": "code",
   "execution_count": 18,
   "metadata": {
    "colab": {
     "base_uri": "https://localhost:8080/"
    },
    "id": "7dIO3tsG4XJu",
    "outputId": "d08a1f71-6946-49a2-e9cd-d59606c41654"
   },
   "outputs": [
    {
     "name": "stdout",
     "output_type": "stream",
     "text": [
      "Virial ratio : 0.5829442981018891\n",
      "Total number of binaries : 300\n"
     ]
    }
   ],
   "source": [
    "# Useful information for the input file\n",
    "\n",
    "print('Virial ratio :', Q)\n",
    "print('Total number of binaries :', 2*N_b)"
   ]
  }
 ],
 "metadata": {
  "colab": {
   "collapsed_sections": [],
   "name": "PeTar_initial_conditions.ipynb",
   "provenance": []
  },
  "kernelspec": {
   "display_name": "Python 3",
   "language": "python",
   "name": "python3"
  },
  "language_info": {
   "codemirror_mode": {
    "name": "ipython",
    "version": 3
   },
   "file_extension": ".py",
   "mimetype": "text/x-python",
   "name": "python",
   "nbconvert_exporter": "python",
   "pygments_lexer": "ipython3",
   "version": "3.9.2"
  }
 },
 "nbformat": 4,
 "nbformat_minor": 1
}
