{
 "cells": [
  {
   "cell_type": "code",
   "execution_count": 1,
   "metadata": {},
   "outputs": [],
   "source": [
    "import petar\n",
    "import numpy as np\n",
    "import matplotlib.pyplot as plt\n",
    "import pandas as pd"
   ]
  },
  {
   "cell_type": "markdown",
   "metadata": {},
   "source": [
    "The variable *path* (string type) represents the directory where the simulation files are stored."
   ]
  },
  {
   "cell_type": "code",
   "execution_count": 2,
   "metadata": {},
   "outputs": [],
   "source": [
    "path ='/Simulation directory/'"
   ]
  },
  {
   "cell_type": "markdown",
   "metadata": {},
   "source": [
    "The function *single parameters* is intended to read output files related to single stars for a given timestep. Files are labeled as *data.timestep.single* and are organized in such a way that each line represents a star and each column a different parameter. The function returns:\n",
    "\n",
    "1) *N$_s$* : number of single stars (int type);\n",
    "\n",
    "2) *m$_s$* : masses of single stars in M$_\\odot$ (1D array, float type);\n",
    "\n",
    "3) *X$_s$* : position components of single stars in pc (matrix, each line representing a star and each column a position component, i.e., *x$_s$*, *y$_s$*, *z$_s$*);\n",
    "\n",
    "4) *V$_s$* : velocity components of single stars in pc/Myr (matrix, each line representing a star and each column a velocity component, i.e., *v$_{s,x}$*, *v$_{s,y}$*, *v$_{s,z}$*);\n",
    "\n",
    "5) *L$_s$* : luminosities of single stars in L$_\\odot$ (1D array, float type);\n",
    "\n",
    "6) *R$_s$* : radii of single stars in R$_\\odot$ (1D array, float type);\n",
    "\n",
    "7) *type$_s$* : stellar evolutionary type (1D array, int type).\n",
    "\n",
    "Note that the function works only if stellar evolution (i.e., *interrupt mode*) is active in the simulation with the options *bse* or *mobse*."
   ]
  },
  {
   "cell_type": "code",
   "execution_count": 3,
   "metadata": {},
   "outputs": [],
   "source": [
    "def single_parameters(path, timestep):\n",
    "    \n",
    "    single = petar.Particle(interrupt_mode='bse/mobse')\n",
    "    \n",
    "    path_file_single = '{}{}.{}.{}'.format(path, 'data', timestep, 'single')\n",
    "    \n",
    "    single.loadtxt(path_file_single)\n",
    "    \n",
    "    with open(path_file_single) as file:\n",
    "    \n",
    "       for line in file:\n",
    "    \n",
    "            m_s = single.mass\n",
    "            X_s = single.pos\n",
    "            V_s = single.vel\n",
    "            L_s = single.star.lum\n",
    "            R_s = single.star.rad\n",
    "            type_s = single.star.type\n",
    "            N_s = len(m_s)\n",
    "            \n",
    "            x_s = X_s[:,0]\n",
    "            y_s = X_s[:,1]\n",
    "            z_s = X_s[:,2]\n",
    "            \n",
    "    return N_s, m_s, X_s, V_s, L_s, R_s, type_s"
   ]
  },
  {
   "cell_type": "markdown",
   "metadata": {},
   "source": [
    "The function *binary parameters* is intended to read output files related to binary stars for a given timestep. Files are labeled as *data.timestep.binary*, and are organized in such a way that lines contain binary components of each pair (i.e., primary and secondary of each pair) and columns the parameters associated to the barycenter and the components of each pair. In particular, *binary.p1* allows to access the parameters of primaries, whereas *binary.p2* those of secondaries. The function returns:\n",
    "\n",
    "1) *N$_b$* : number of binaries (int type);\n",
    "\n",
    "2) *V$_{cm}$* : velocity components of binary centers of mass in pc/Myr (matrix, each line representing a star and each column a velocity component, i.e., *v$_{cm,x}$*, *v$_{cm,y}$*, *v$_{cm,z}$*);\n",
    "\n",
    "3) *a* : semi-major axes in pc (1D array, float type);\n",
    "\n",
    "4) *e* : eccentricities (1D array, float type);\n",
    "\n",
    "5) *m$_1$* : masses of primaries in M$_\\odot$ (1D array, float type);\n",
    "\n",
    "6) *m$_2$* : masses of secondaries in M$_\\odot$ (1D array, float type);\n",
    "\n",
    "7) *V$_1$* : velocity components of primaries in pc/Myr (matrix, each line representing a star and each column a velocity component, i.e., *v$_{1,x}$*, *v$_{1,y}$*, *v$_{1,z}$*);\n",
    "\n",
    "8) *V$_2$* : velocity components of secondaries in pc/Myr (matrix, each line representing a star and each column a velocity component, i.e., *v$_{2,x}$*, *v$_{2,y}$*, *v$_{2,z}$*);\n",
    "\n",
    "9) *L$_1$* : luminosities of primaries in L$_\\odot$ (1D array, float type);\n",
    "\n",
    "10) *L$_2$* : luminosities of secondaries in L$_\\odot$ (1D array, float type);\n",
    "\n",
    "11) *R$_1$* : radii of primaries in R$_\\odot$ (1D array, float type);\n",
    "\n",
    "12) *R$_2$* : radii of secondaries in R$_\\odot$ (1D array, float type);\n",
    "\n",
    "13) *type$_1$* : stellar evolutionary type of primaries (1D array, int type);\n",
    "\n",
    "14) *type$_2$* : stellar evolutionary type of secondaries (1D array, int type).\n",
    "\n",
    "Note that the function works only if stellar evolution (i.e., *interrupt mode*) is active in the simulation with the options *bse* or *mobse*."
   ]
  },
  {
   "cell_type": "code",
   "execution_count": 4,
   "metadata": {},
   "outputs": [],
   "source": [
    "def binary_parameters(path, timestep):\n",
    "    \n",
    "    binary = petar.Binary(member_particle_type=petar.Particle, interrupt_mode='bse/mobse', G=petar.G_MSUN_PC_MYR)\n",
    "    \n",
    "    path_file_binary = '{}{}.{}.{}'.format(path, 'data', timestep, 'binary')\n",
    "    \n",
    "    binary.loadtxt(path_file_binary)\n",
    "    \n",
    "    with open(path_file_binary) as file:\n",
    "        \n",
    "        for line in file:\n",
    "            \n",
    "            m_cm = binary.mass\n",
    "            X_cm = binary.pos\n",
    "            V_cm = binary.vel\n",
    "            x_cm = X_cm[:,0]\n",
    "            y_cm = X_cm[:,1]\n",
    "            z_cm = X_cm[:,2]\n",
    "            N_b = len(m_cm)\n",
    "            a = binary.semi\n",
    "            e = binary.ecc\n",
    "            \n",
    "            m_1 = binary.p1.mass\n",
    "            X_1 = binary.p1.pos\n",
    "            V_1 = binary.p1.vel\n",
    "            L_1 = binary.p1.star.lum\n",
    "            R_1 = binary.p1.star.rad\n",
    "            type_1 = binary.p1.star.type        \n",
    "        \n",
    "            m_2 = binary.p2.mass\n",
    "            X_2 = binary.p2.pos          \n",
    "            V_2 = binary.p2.vel            \n",
    "            L_2 = binary.p2.star.lum\n",
    "            R_2 = binary.p2.star.rad\n",
    "            type_2 = binary.p2.star.type\n",
    "            \n",
    "    return N_b, m_cm, X_cm, V_cm, a, e, m_1, m_2, X_1, X_2, V_1, V_2, L_1, L_2, R_1, R_2, type_1, type_2"
   ]
  },
  {
   "cell_type": "markdown",
   "metadata": {},
   "source": [
    "The function *stellar numbers* calculates the number of stars in the system and the binary fraction at a given timestep, and returns:\n",
    "\n",
    "1) *N* : number of single stars and binary systems (int type);\n",
    "\n",
    "2) *N$_{tot}$* : total number of stars, i.e., number of single stars and binary components (int type);\n",
    "\n",
    "3) *f$_{b,timestep}$* : binary fraction (float type)."
   ]
  },
  {
   "cell_type": "code",
   "execution_count": 5,
   "metadata": {},
   "outputs": [],
   "source": [
    "def stellar_numbers(N_s, N_b, timestep):\n",
    "    \n",
    "    N = N_s + N_b\n",
    "    N_tot = N_s + 2*N_b\n",
    "    f_b_timestep = N_b/N_tot\n",
    "    \n",
    "    return N, N_tot, f_b_timestep"
   ]
  },
  {
   "cell_type": "markdown",
   "metadata": {},
   "source": [
    "The function *HRD* returns, at a given timestep:\n",
    "\n",
    "1) *L* : the luminosity of all the stars in the system in L$_\\odot$ (1D array, float type);\n",
    "\n",
    "2) *L$_{tot}$* : the total luminosity of the system in L$_\\odot$ (float type);\n",
    "\n",
    "3) *T* : the temperature of all the stars in the system in K (1D array, float type).\n",
    "\n",
    "The function also displays the Hertzsprung Russel Diagram (HRD) of the system if *plot=True*."
   ]
  },
  {
   "cell_type": "code",
   "execution_count": null,
   "metadata": {},
   "outputs": [],
   "source": [
    "def HRD(L_s, L_1, L_2, R_s, R_1, R_2, timestep, plot=True/False):\n",
    "    \n",
    "    # Luminosity\n",
    "    \n",
    "    L = np.concatenate((L_s,L_1,L_2), axis=0)\n",
    "    L_tot = np.sum(L)\n",
    "    \n",
    "    # Temperature\n",
    "    \n",
    "    T_s = 5778*(L_s/R_s**2)**(1/4)\n",
    "    T_1 = 5778*(L_1/R_1**2)**(1/4)\n",
    "    T_2 = 5778*(L_2/R_2**2)**(1/4)\n",
    "    T = np.concatenate((T_s,T_1,T_2), axis=0)\n",
    "    \n",
    "    # HRD\n",
    "    \n",
    "    plt.figure(figsize=(9,7), dpi=120)\n",
    "    plt.scatter(T, L, color='black', alpha=1)\n",
    "    plt.xlabel('T [K]', fontsize=20)\n",
    "    plt.ylabel('L [L$_{\\odot}$]', fontsize=20)\n",
    "    plt.xlim(T.max(),T.min())\n",
    "    plt.xscale('log')\n",
    "    plt.yscale('log')\n",
    "    plt.xticks(fontsize=15)\n",
    "    plt.yticks(fontsize=15)\n",
    "    plt.show()\n",
    "    \n",
    "    return L, L_tot, T"
   ]
  },
  {
   "cell_type": "markdown",
   "metadata": {},
   "source": [
    "The function *get data versus time* calculates the quantities of interest per timestep; here, for instance, the function returns binary fraction per timestep *f$_b$* (1D array, float type)."
   ]
  },
  {
   "cell_type": "code",
   "execution_count": 10,
   "metadata": {},
   "outputs": [],
   "source": [
    "def get_data_versus_time(path):\n",
    "    \n",
    "    timesteps = np.arange(0,'final timestep + 1')\n",
    "    \n",
    "    f_b = []\n",
    "    \n",
    "    for timestep in timesteps:\n",
    "        \n",
    "        N_s, m_s, X_s, V_s, L_s, R_s, type_s = single_parameters(path, timestep)\n",
    "        N_b, m_cm, X_cm, V_cm, a, e, m_1, m_2, X_1, X_2, V_1, V_2, L_1, L_2, R_1, R_2, type_1, type_2 = binary_parameters(path, timestep)\n",
    "        N, N_tot, f_b_timestep = stellar_numbers(N_s, N_b, timestep)\n",
    "        L, L_tot, T = HRD(L_s, L_1, L_2, R_s, R_1, R_2, timestep, plot=True/False)\n",
    "    \n",
    "        f_b.append(f_b_timestep)     \n",
    "      \n",
    "    f_b = np.array(f_b, dtype='object')\n",
    "    \n",
    "    return f_b"
   ]
  },
  {
   "cell_type": "markdown",
   "metadata": {},
   "source": [
    "The following cell allows to load the global output data files of PeTar. The user can choose between different options for the *interrupt mode* and the *external mode* depending on the simulation set up."
   ]
  },
  {
   "cell_type": "code",
   "execution_count": null,
   "metadata": {},
   "outputs": [],
   "source": [
    "lagr = petar.LagrangianMultiple(interrupt_mode='no/bse/mobse', external_mode='no/galpy', calc_energy=True)\n",
    "lagr.loadtxt(path+'data.lagr')\n",
    "\n",
    "core = petar.Core()\n",
    "core.loadtxt(path+'data.core')\n",
    "\n",
    "status = petar.Status()\n",
    "status.loadtxt(path+'data.status')\n",
    "\n",
    "tidal = petar.Tidal()\n",
    "tidal.loadtxt(path+'data.tidal')\n",
    "\n",
    "esc_single = petar.SingleEscaper(interrupt_mode='no/bse/mobse', external_mode='no/galpy')\n",
    "esc_single.loadtxt(path+'data.esc_single')\n",
    "    \n",
    "esc_binary = petar.BinaryEscaper(interrupt_mode='no/bse/mobse', external_mode='no/galpy')\n",
    "esc_binary.loadtxt(path+'data.esc_binary')"
   ]
  },
  {
   "cell_type": "markdown",
   "metadata": {},
   "source": [
    "The function *evolutionary time* reads the output file *data.status*, where the values of the time in Myr, corresponding to each timestep, are stored, and returns the system evolutionary time *time$_{myr}$* (1D array, float type)."
   ]
  },
  {
   "cell_type": "code",
   "execution_count": 12,
   "metadata": {},
   "outputs": [],
   "source": [
    "def evolutionary_time():\n",
    "    \n",
    "    time_myr = status.time\n",
    "    \n",
    "    return time_myr"
   ]
  },
  {
   "cell_type": "markdown",
   "metadata": {},
   "source": [
    "The function *dynamical timescales* computes both the crossing and the relaxation time in Myr per timestep, and returns:\n",
    "\n",
    "1) *t$_{cr}$* : crossing time in Myr (1D array, float type);\n",
    "\n",
    "2) *t$_{rh}$* : relaxation time in Myr (1D array, float type).\n",
    "\n",
    "Note that these are half-mass dynamical timescales."
   ]
  },
  {
   "cell_type": "code",
   "execution_count": 22,
   "metadata": {},
   "outputs": [],
   "source": [
    "def dynamical_timescales(G=petar.G_MSUN_PC_MYR):\n",
    "    \n",
    "    N_hm = lagr.all.n[:,2] # Total number of stars inside the half-mass radius\n",
    "    m_hm = lagr.all.m[:,2] # Mean mass inside the half-mass radius\n",
    "    r_hm = lagr.all.r[:,2] # Half-mass radius\n",
    "    \n",
    "    M_hm = m_hm*N_hm # Total mass inside the half-mass radius\n",
    "    M = 2*m_h*N_h # Total mass\n",
    "    \n",
    "    t_cr = petar.calcTcr(M, r_hm, G)\n",
    "    \n",
    "    t_rh = petar.calcTrh(N_hm, r_hm, m_hm, G, gamma=0.02)\n",
    "    \n",
    "    return t_cr, t_rh"
   ]
  },
  {
   "cell_type": "markdown",
   "metadata": {},
   "source": [
    "The function *lagrangian radii* calculates and displays (if *plot=True*) the Lagrangian radii as a function of time at varying mass fraction, whose values are stored in the variable *f$_m$* (1D array, float type). The information about Lagrangian radii per timestep is contained in the output file *data.lagr*, and the attribute *.all* means that all the stars in the system are considered in the computation. The function returns:\n",
    "\n",
    "1) *r$_{lagr}$* : Lagrangian radii at varying mass fraction (2D array: the first dimension represents the values of the Lagrangian radii in pc per timestep, whereas the second one the mass fraction; float type);\n",
    "\n",
    "2) *r$_{hm}$* : half-mass radius per timestep (1D array, float type). Note that the half-mass radius corresponds to the Lagrangian radius relative to the mass fraction 0.5;\n",
    "\n",
    "3) *r$_{core}$* : core radius per timestep (1D array, float type)."
   ]
  },
  {
   "cell_type": "code",
   "execution_count": 13,
   "metadata": {},
   "outputs": [],
   "source": [
    "def lagrangian_radii(time_myr, plot=True/False):\n",
    "    \n",
    "    r_lagr = lagr.all.r\n",
    "    f_m = np.asarray([0.1, 0.3, 0.5, 0.7, 0.9]) # Mass fractions\n",
    "    \n",
    "    r_hm = r_lagr[:,2]\n",
    "    r_core = r_lagr[:,5]\n",
    "\n",
    "    plt.figure(figsize=(8,11), dpi=120)\n",
    "    plt.plot(time_myr, r_lagr[:,0], color='pink', linewidth=1, alpha=1, label='$f_m$=0.1')\n",
    "    plt.plot(time_myr, r_lagr[:,1], color='lime', linewidth=1, alpha=0.5, label='$f_m$=0.3')\n",
    "    plt.plot(time_myr, r_lagr[:,2], color='orange', linewidth=1, alpha=1, label='$f_m$=0.5')\n",
    "    plt.plot(time_myr, r_lagr[:,3], color='turquoise', linewidth=1, alpha=1, label='$f_m$=0.7')\n",
    "    plt.plot(time_myr, r_lagr[:,4], color='orchid', linewidth=1, alpha=1, label='$f_m$=0.9')\n",
    "    plt.xlabel('Time [Myr]', fontsize=20)\n",
    "    plt.ylabel('$R_{lagr}$ [pc]', fontsize=20)\n",
    "    plt.xticks(fontsize=15)\n",
    "    plt.yticks(fontsize=15)\n",
    "    plt.legend(fontsize=20)\n",
    "    plt.show()\n",
    "    \n",
    "    return r_lagr, r_hm, r_core"
   ]
  },
  {
   "cell_type": "markdown",
   "metadata": {},
   "source": [
    "The function *virial ratio* calculates and displays (if *plot=True*) the virial ratio as function of time, starting from the output file *data.lagr*. It returns the value of the virial ratio *Q* per timestep (1D array, float type), which is computed by considering all the stars inside the system's half-mass radius."
   ]
  },
  {
   "cell_type": "code",
   "execution_count": 14,
   "metadata": {},
   "outputs": [],
   "source": [
    "def virial_ratio(time_myr, plot=True/False):\n",
    "\n",
    "    Q = lagr.all.vr[:,2]/2\n",
    "\n",
    "    fig = plt.figure(figsize=(5,6), dpi=120)\n",
    "    plt.plot(time_myr, Q, color='black', linewidth=2, alpha=1)\n",
    "    plt.xlabel('Time [Myr]', fontsize=17)\n",
    "    plt.ylabel('Q', fontsize=17)\n",
    "    plt.xticks(fontsize=13)\n",
    "    plt.yticks(fontsize=13)\n",
    "    plt.show()\n",
    "    \n",
    "    return Q"
   ]
  },
  {
   "cell_type": "markdown",
   "metadata": {},
   "source": [
    "The function *energy* calculates and displays (if *plot=True*) as a function of time both the total energy of the system and the normalized difference between this and its initial value. In particular, the potential energy *E$_{pot}$* is obtained from the output file *data.lagr* and computed by considering all stars inside the system's half-mass radius, as well as the virial ratio. Also, here the user can choose between the potential energy of both the stars and the Galaxy, and the potential energy of single stars only (# variable *E$_{pot}$*). The function returns:\n",
    "\n",
    "1) *E* : total energy of the system per timestep in erg (1D array, float type);\n",
    "\n",
    "2) *$\\Delta E_{norm}$* : normalized energy difference per timestep (1D array, float type)."
   ]
  },
  {
   "cell_type": "code",
   "execution_count": 15,
   "metadata": {},
   "outputs": [],
   "source": [
    "def energy(time_myr, Q, plot=True/False):\n",
    "\n",
    "    E_pot = lagr.all.epot[:,2]\n",
    "    #E_pot = lagr.all.epot[:,2] - lagr.all.epot_ext[:,2]\n",
    "    \n",
    "    E = (Q-1)/np.abs(E_pot)\n",
    "    Delta_E_norm = (E-E[0])/E[0]\n",
    "    \n",
    "    energy_figure = plt.figure(figsize=(23,10), dpi=120)\n",
    "\n",
    "    energy_figure.add_subplot(1,2,1)\n",
    "    plt.plot(time_myr, E, color='black', linewidth=2, alpha=1)\n",
    "    plt.xlabel('Time [Myr]', fontsize=22)\n",
    "    plt.ylabel('E [erg]', fontsize=22)\n",
    "    plt.xticks(fontsize=17)\n",
    "    plt.yticks(fontsize=17)\n",
    "\n",
    "    energy_figure.add_subplot(1,2,2)\n",
    "    plt.plot(time_myr, Delta_E_norm, color='black', linewidth=2, alpha=1)\n",
    "    plt.xlabel('Time [Myr]', fontsize=22)\n",
    "    plt.ylabel('$\\Delta E/E_0$', fontsize=22)\n",
    "    plt.xticks(fontsize=17)\n",
    "    plt.yticks(fontsize=17)\n",
    "    \n",
    "    plt.show()\n",
    "    \n",
    "    return E, Delta_E_norm"
   ]
  },
  {
   "cell_type": "markdown",
   "metadata": {},
   "source": [
    "The function *total mass* calculates and displays (if *plot=True*) the total mass of the system as a function of time, starting from the output file *data.lagr*. It returns *M* (1D array, float type), i.e., the total mass of the system per timestep in M$_\\odot$."
   ]
  },
  {
   "cell_type": "code",
   "execution_count": 16,
   "metadata": {
    "scrolled": false
   },
   "outputs": [],
   "source": [
    "def total_mass(time_myr, plot=True/False):\n",
    "    \n",
    "    N_hm = lagr.all.n[:,2]\n",
    "    m_hm = lagr.all.m[:,2]\n",
    "    M = 2*m_hm*N_hm\n",
    "\n",
    "    fig = plt.figure(figsize=(5,6), dpi=120)\n",
    "    plt.plot(time_myr, M, color='black', linewidth=2, alpha=1)\n",
    "    plt.xlabel('Time [Myr]', fontsize=18)\n",
    "    plt.ylabel('M [M$_\\odot$]', fontsize=18)\n",
    "    plt.xticks(fontsize=13)\n",
    "    plt.yticks(fontsize=13)\n",
    "    plt.show()\n",
    "    \n",
    "    return M"
   ]
  },
  {
   "cell_type": "markdown",
   "metadata": {},
   "source": [
    "The function *binary fraction* displays (if *plot=True*) the binary fraction *f$_b$* as a function of time."
   ]
  },
  {
   "cell_type": "code",
   "execution_count": 17,
   "metadata": {
    "scrolled": false
   },
   "outputs": [],
   "source": [
    "def binary_fraction(time_myr, f_b, plot=True/False):\n",
    "    \n",
    "    fig = plt.figure(figsize=(5,6), dpi=120)\n",
    "    plt.plot(time_myr, f_b, color='black', linewidth=2, alpha=1)\n",
    "    plt.xlabel('Time [Myr]', fontsize=18)\n",
    "    plt.ylabel('$f_b$', fontsize=18)\n",
    "    plt.xticks(fontsize=13)\n",
    "    plt.yticks(fontsize=13)\n",
    "    plt.show()\n",
    "    \n",
    "    return 0"
   ]
  },
  {
   "cell_type": "markdown",
   "metadata": {},
   "source": [
    "The function *center coordinates* calculates the position and velocity coordinates of the system's center by using the output file *data.core*, and returns:\n",
    "\n",
    "1) *X* : system's center position coordinates in pc per timestep (1D array, float type);\n",
    "\n",
    "2) *V* : system's center velocity coordinates in pc/Myr per timestep (1D array, float type)."
   ]
  },
  {
   "cell_type": "code",
   "execution_count": null,
   "metadata": {},
   "outputs": [],
   "source": [
    "def center_coordinates():\n",
    "    \n",
    "    X = core.pos\n",
    "    V = core.vel\n",
    "    \n",
    "    return X, V"
   ]
  },
  {
   "cell_type": "markdown",
   "metadata": {},
   "source": [
    "The function *tidal* displays (if *plot=True*) the evolution of the number of bound stars, as well as of the bound mass, as a function of time and calculates the expected time for the system to dissolve by using a linear interpolation. It returns:\n",
    "\n",
    "1) *r$_{tid}$* : tidal radius in pc per timestep (1D array, float type);\n",
    "\n",
    "2) *m$_{bound}$* : total bound mass of the system in M$_\\odot$ (1D array, float type);\n",
    "\n",
    "3) *n$_{bound}$* : number of bound stars in the system (1D array, float type);\n",
    "\n",
    "4) *time$_{myr,end}$* : expected time for system dissolution (float type).\n",
    "\n",
    "Note that the output file *data.tidal* exists only if *external mode = galpy*."
   ]
  },
  {
   "cell_type": "code",
   "execution_count": null,
   "metadata": {},
   "outputs": [],
   "source": [
    "def tidal(time_myr, plot=True/False):\n",
    "    \n",
    "    # Bound stars data\n",
    "    \n",
    "    r_tid = tidal.rtid\n",
    "    m_bound = tidal.mass\n",
    "    n_bound = tidal.n\n",
    "    \n",
    "    figure = plt.figure(figsize=(23,10), dpi=120)\n",
    "\n",
    "    figure.add_subplot(1,2,1)\n",
    "    plt.plot(time_myr, m_bound, color='black', linewidth=2, alpha=1)\n",
    "    plt.xlabel('Time [Myr]', fontsize=22)\n",
    "    plt.ylabel('$M_{bound}$ [M$_\\odot$]', fontsize=22)\n",
    "    plt.xticks(fontsize=17)\n",
    "    plt.yticks(fontsize=17)\n",
    "\n",
    "    figure.add_subplot(1,2,2)\n",
    "    plt.plot(time_myr, n_bound, color='black', linewidth=2, alpha=1)\n",
    "    plt.xlabel('Time [Myr]', fontsize=22)\n",
    "    plt.ylabel('$N_{bound}$', fontsize=22)\n",
    "    plt.xticks(fontsize=17)\n",
    "    plt.yticks(fontsize=17)\n",
    "    \n",
    "    plt.show()\n",
    "    \n",
    "    # Expected time for system dissolution\n",
    "    \n",
    "    def linear_interpolation(time_myr, n_bound):\n",
    "\n",
    "        X = np.zeros(shape=('N timesteps',2)) # N timesteps = number of timesteps\n",
    "        X[:,0] = np.ones('N timesteps')\n",
    "        X[:,1] = time_myr\n",
    "\n",
    "        Z = np.matmul(np.linalg.inv(np.matmul(X.T,X)), X.T) # (X.T X)**(-1) X.T\n",
    "        w = np.matmul(Z,n_bound)\n",
    "    \n",
    "        n_bound_end = 0\n",
    "        time_myr_end = (n_bound_end - w[0])/w[1]\n",
    "    \n",
    "        return time_myr_end\n",
    "\n",
    "    time_myr_end = linear_interpolation(time_myr, n_bound)\n",
    "    \n",
    "    return r_tid, m_bound, n_bound, time_myr_end"
   ]
  },
  {
   "cell_type": "markdown",
   "metadata": {},
   "source": [
    "Functions initialization. If plots are not required, then *plot=False*."
   ]
  },
  {
   "cell_type": "code",
   "execution_count": null,
   "metadata": {},
   "outputs": [],
   "source": [
    "f_b = get_data_versus_time(path)\n",
    "\n",
    "time_myr = evolutionary_time()\n",
    "\n",
    "t_cr, t_rh = dynamical_timescales(G=petar.G_MSUN_PC_MYR)\n",
    "\n",
    "r_lagr, r_hm, r_core = lagrangian_radii(time_myr, plot=True/False)\n",
    "\n",
    "Q = virial_ratio(time_myr, plot=True/False)\n",
    "\n",
    "E, Delta_E_norm = energy(time_myr, Q, plot=True/False)\n",
    "\n",
    "M = total_mass(time_myr, plot=True/False)\n",
    "\n",
    "binary_fraction(time_myr, f_b, plot=True/False)\n",
    "\n",
    "X, V = center_coordinates()\n",
    "\n",
    "r_tid, m_bound, n_bound, time_myr_end = tidal(time_myr, plot=True/False)"
   ]
  }
 ],
 "metadata": {
  "kernelspec": {
   "display_name": "Python 3",
   "language": "python",
   "name": "python3"
  },
  "language_info": {
   "codemirror_mode": {
    "name": "ipython",
    "version": 3
   },
   "file_extension": ".py",
   "mimetype": "text/x-python",
   "name": "python",
   "nbconvert_exporter": "python",
   "pygments_lexer": "ipython3",
   "version": "3.9.2"
  }
 },
 "nbformat": 4,
 "nbformat_minor": 4
}
